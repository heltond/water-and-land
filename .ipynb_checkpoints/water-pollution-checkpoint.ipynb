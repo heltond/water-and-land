{
 "cells": [
  {
   "cell_type": "code",
   "execution_count": 1,
   "id": "waiting-candle",
   "metadata": {},
   "outputs": [],
   "source": [
    "%matplotlib inline\n",
    "\n",
    "import pandas as pd\n",
    "import geopandas as gpd\n",
    "import matplotlib.pyplot as plt"
   ]
  },
  {
   "cell_type": "markdown",
   "id": "occupational-bloom",
   "metadata": {},
   "source": [
    "##### This is the Jupyter Notebook file for my project exploring land use and water pollution. The original datasets, as well as all but one of the output files (manufacturing.json), are not included in the repository at this time because of their size. A link to the original can be found in the readme."
   ]
  },
  {
   "cell_type": "code",
   "execution_count": 4,
   "id": "portuguese-consent",
   "metadata": {},
   "outputs": [],
   "source": [
    "water = gpd.read_file('../data/water-pollution.geojson')\n",
    "land_use = gpd.read_file('../data/land-use.geojson')"
   ]
  },
  {
   "cell_type": "markdown",
   "id": "based-mechanism",
   "metadata": {},
   "source": [
    "##### The datasets are loaded. Jupyter Notebooks is used to produce JSONs with the required data. First, extraneous columns are removed."
   ]
  },
  {
   "cell_type": "code",
   "execution_count": 9,
   "id": "opposite-enzyme",
   "metadata": {},
   "outputs": [
    {
     "data": {
      "text/html": [
       "<div>\n",
       "<style scoped>\n",
       "    .dataframe tbody tr th:only-of-type {\n",
       "        vertical-align: middle;\n",
       "    }\n",
       "\n",
       "    .dataframe tbody tr th {\n",
       "        vertical-align: top;\n",
       "    }\n",
       "\n",
       "    .dataframe thead th {\n",
       "        text-align: right;\n",
       "    }\n",
       "</style>\n",
       "<table border=\"1\" class=\"dataframe\">\n",
       "  <thead>\n",
       "    <tr style=\"text-align: right;\">\n",
       "      <th></th>\n",
       "      <th>OBJECTID</th>\n",
       "      <th>ListingNumber</th>\n",
       "      <th>CategoryCode</th>\n",
       "      <th>ParameterName</th>\n",
       "      <th>MediumName</th>\n",
       "      <th>ListingWaterbodyName</th>\n",
       "      <th>EnvironmentTypeCode</th>\n",
       "      <th>Shape_Length</th>\n",
       "      <th>Shape_Area</th>\n",
       "      <th>geometry</th>\n",
       "    </tr>\n",
       "  </thead>\n",
       "  <tbody>\n",
       "    <tr>\n",
       "      <th>12535</th>\n",
       "      <td>12536</td>\n",
       "      <td>614464</td>\n",
       "      <td>1</td>\n",
       "      <td>Bis(2-Ethylhexyl)phthalate</td>\n",
       "      <td>Sediment</td>\n",
       "      <td>SNOHOMISH RIVER</td>\n",
       "      <td>Marine</td>\n",
       "      <td>4833.126902</td>\n",
       "      <td>1.095488e+06</td>\n",
       "      <td>MULTIPOLYGON (((1226090.435 984247.373, 122617...</td>\n",
       "    </tr>\n",
       "    <tr>\n",
       "      <th>11303</th>\n",
       "      <td>11304</td>\n",
       "      <td>510530</td>\n",
       "      <td>1</td>\n",
       "      <td>Mercury</td>\n",
       "      <td>Sediment</td>\n",
       "      <td>PUGET SOUND (CENTRAL)</td>\n",
       "      <td>Marine</td>\n",
       "      <td>4640.712296</td>\n",
       "      <td>1.115342e+06</td>\n",
       "      <td>MULTIPOLYGON (((1176325.464 892357.360, 117630...</td>\n",
       "    </tr>\n",
       "    <tr>\n",
       "      <th>3976</th>\n",
       "      <td>3977</td>\n",
       "      <td>15703</td>\n",
       "      <td>1</td>\n",
       "      <td>Bacteria</td>\n",
       "      <td>Water</td>\n",
       "      <td>SARATOGA PASSAGE</td>\n",
       "      <td>Marine</td>\n",
       "      <td>12186.563926</td>\n",
       "      <td>8.918984e+06</td>\n",
       "      <td>MULTIPOLYGON (((1153844.417 1018783.500, 11537...</td>\n",
       "    </tr>\n",
       "    <tr>\n",
       "      <th>25876</th>\n",
       "      <td>25877</td>\n",
       "      <td>48403</td>\n",
       "      <td>1</td>\n",
       "      <td>Temperature</td>\n",
       "      <td>Water</td>\n",
       "      <td>LANE CREEK</td>\n",
       "      <td>Freshwater</td>\n",
       "      <td>27072.766210</td>\n",
       "      <td>1.344217e+06</td>\n",
       "      <td>MULTIPOLYGON (((2172282.853 1192969.153, 21721...</td>\n",
       "    </tr>\n",
       "    <tr>\n",
       "      <th>15011</th>\n",
       "      <td>15012</td>\n",
       "      <td>622844</td>\n",
       "      <td>1</td>\n",
       "      <td>Fluorene</td>\n",
       "      <td>Sediment</td>\n",
       "      <td>PORT ANGELES HARBOR</td>\n",
       "      <td>Marine</td>\n",
       "      <td>6092.144130</td>\n",
       "      <td>2.228722e+06</td>\n",
       "      <td>MULTIPOLYGON (((923283.500 1033287.417, 923215...</td>\n",
       "    </tr>\n",
       "  </tbody>\n",
       "</table>\n",
       "</div>"
      ],
      "text/plain": [
       "       OBJECTID  ListingNumber CategoryCode               ParameterName  \\\n",
       "12535     12536         614464            1  Bis(2-Ethylhexyl)phthalate   \n",
       "11303     11304         510530            1                     Mercury   \n",
       "3976       3977          15703            1                    Bacteria   \n",
       "25876     25877          48403            1                 Temperature   \n",
       "15011     15012         622844            1                    Fluorene   \n",
       "\n",
       "      MediumName   ListingWaterbodyName EnvironmentTypeCode  Shape_Length  \\\n",
       "12535   Sediment        SNOHOMISH RIVER              Marine   4833.126902   \n",
       "11303   Sediment  PUGET SOUND (CENTRAL)              Marine   4640.712296   \n",
       "3976       Water       SARATOGA PASSAGE              Marine  12186.563926   \n",
       "25876      Water             LANE CREEK          Freshwater  27072.766210   \n",
       "15011   Sediment    PORT ANGELES HARBOR              Marine   6092.144130   \n",
       "\n",
       "         Shape_Area                                           geometry  \n",
       "12535  1.095488e+06  MULTIPOLYGON (((1226090.435 984247.373, 122617...  \n",
       "11303  1.115342e+06  MULTIPOLYGON (((1176325.464 892357.360, 117630...  \n",
       "3976   8.918984e+06  MULTIPOLYGON (((1153844.417 1018783.500, 11537...  \n",
       "25876  1.344217e+06  MULTIPOLYGON (((2172282.853 1192969.153, 21721...  \n",
       "15011  2.228722e+06  MULTIPOLYGON (((923283.500 1033287.417, 923215...  "
      ]
     },
     "execution_count": 9,
     "metadata": {},
     "output_type": "execute_result"
    }
   ],
   "source": [
    "water = water.drop(['AssessmentUnitNumber','AssessmentUnitTypeCode','NHDReachCode','NHDFromMeasurePercent','NHDToMeasurePercent','GridCellNumber','UnmappableCode'], axis=1)\n",
    "water.sample(5)"
   ]
  },
  {
   "cell_type": "code",
   "execution_count": 10,
   "id": "married-night",
   "metadata": {},
   "outputs": [
    {
     "data": {
      "text/html": [
       "<div>\n",
       "<style scoped>\n",
       "    .dataframe tbody tr th:only-of-type {\n",
       "        vertical-align: middle;\n",
       "    }\n",
       "\n",
       "    .dataframe tbody tr th {\n",
       "        vertical-align: top;\n",
       "    }\n",
       "\n",
       "    .dataframe thead th {\n",
       "        text-align: right;\n",
       "    }\n",
       "</style>\n",
       "<table border=\"1\" class=\"dataframe\">\n",
       "  <thead>\n",
       "    <tr style=\"text-align: right;\">\n",
       "      <th></th>\n",
       "      <th>OBJECTID</th>\n",
       "      <th>LANDUSE_CD</th>\n",
       "      <th>Shape_Length</th>\n",
       "      <th>Shape_Area</th>\n",
       "      <th>geometry</th>\n",
       "    </tr>\n",
       "  </thead>\n",
       "  <tbody>\n",
       "    <tr>\n",
       "      <th>50296</th>\n",
       "      <td>50167</td>\n",
       "      <td>11</td>\n",
       "      <td>665.873538</td>\n",
       "      <td>25538.809016</td>\n",
       "      <td>MULTIPOLYGON (((2268984.500 1184452.250, 22691...</td>\n",
       "    </tr>\n",
       "    <tr>\n",
       "      <th>581035</th>\n",
       "      <td>580906</td>\n",
       "      <td>11</td>\n",
       "      <td>1781.364482</td>\n",
       "      <td>149885.217907</td>\n",
       "      <td>MULTIPOLYGON (((1977377.083 545242.333, 197728...</td>\n",
       "    </tr>\n",
       "    <tr>\n",
       "      <th>577057</th>\n",
       "      <td>576928</td>\n",
       "      <td>18</td>\n",
       "      <td>792.565993</td>\n",
       "      <td>34235.918693</td>\n",
       "      <td>MULTIPOLYGON (((1103485.750 557580.833, 110335...</td>\n",
       "    </tr>\n",
       "    <tr>\n",
       "      <th>708828</th>\n",
       "      <td>708699</td>\n",
       "      <td>94</td>\n",
       "      <td>7308.622898</td>\n",
       "      <td>460074.011384</td>\n",
       "      <td>MULTIPOLYGON (((1304417.250 142267.500, 130414...</td>\n",
       "    </tr>\n",
       "    <tr>\n",
       "      <th>556414</th>\n",
       "      <td>556285</td>\n",
       "      <td>68</td>\n",
       "      <td>1517.749146</td>\n",
       "      <td>137218.337350</td>\n",
       "      <td>MULTIPOLYGON (((1630460.083 607384.167, 163011...</td>\n",
       "    </tr>\n",
       "  </tbody>\n",
       "</table>\n",
       "</div>"
      ],
      "text/plain": [
       "        OBJECTID  LANDUSE_CD  Shape_Length     Shape_Area  \\\n",
       "50296      50167          11    665.873538   25538.809016   \n",
       "581035    580906          11   1781.364482  149885.217907   \n",
       "577057    576928          18    792.565993   34235.918693   \n",
       "708828    708699          94   7308.622898  460074.011384   \n",
       "556414    556285          68   1517.749146  137218.337350   \n",
       "\n",
       "                                                 geometry  \n",
       "50296   MULTIPOLYGON (((2268984.500 1184452.250, 22691...  \n",
       "581035  MULTIPOLYGON (((1977377.083 545242.333, 197728...  \n",
       "577057  MULTIPOLYGON (((1103485.750 557580.833, 110335...  \n",
       "708828  MULTIPOLYGON (((1304417.250 142267.500, 130414...  \n",
       "556414  MULTIPOLYGON (((1630460.083 607384.167, 163011...  "
      ]
     },
     "execution_count": 10,
     "metadata": {},
     "output_type": "execute_result"
    }
   ],
   "source": [
    "land_use = land_use.drop(['COUNTY_NM','Perimeter','New_Area','New_Acres','NewArea','NewAcres','layer','path'], axis=1)\n",
    "land_use.sample(5)"
   ]
  },
  {
   "cell_type": "markdown",
   "id": "casual-outside",
   "metadata": {},
   "source": [
    "##### The land use file is split up into eight different datasets depending on type. This will reduce file size and simplify the final code."
   ]
  },
  {
   "cell_type": "code",
   "execution_count": 42,
   "id": "legal-screening",
   "metadata": {},
   "outputs": [],
   "source": [
    "residential = land_use.loc[(land_use['LANDUSE_CD'] > 10) & (land_use['LANDUSE_CD'] < 20)]\n",
    "with open('residential.json', 'w') as f:\n",
    "    f.write(residential.to_json())\n",
    "residential = gpd.read_file('residential.json')"
   ]
  },
  {
   "cell_type": "code",
   "execution_count": 43,
   "id": "norwegian-groove",
   "metadata": {},
   "outputs": [
    {
     "data": {
      "text/html": [
       "<div>\n",
       "<style scoped>\n",
       "    .dataframe tbody tr th:only-of-type {\n",
       "        vertical-align: middle;\n",
       "    }\n",
       "\n",
       "    .dataframe tbody tr th {\n",
       "        vertical-align: top;\n",
       "    }\n",
       "\n",
       "    .dataframe thead th {\n",
       "        text-align: right;\n",
       "    }\n",
       "</style>\n",
       "<table border=\"1\" class=\"dataframe\">\n",
       "  <thead>\n",
       "    <tr style=\"text-align: right;\">\n",
       "      <th></th>\n",
       "      <th>id</th>\n",
       "      <th>LANDUSE_CD</th>\n",
       "      <th>OBJECTID</th>\n",
       "      <th>Shape_Area</th>\n",
       "      <th>Shape_Length</th>\n",
       "      <th>geometry</th>\n",
       "    </tr>\n",
       "  </thead>\n",
       "  <tbody>\n",
       "    <tr>\n",
       "      <th>69846</th>\n",
       "      <td>145784</td>\n",
       "      <td>11</td>\n",
       "      <td>145655</td>\n",
       "      <td>726991.332948</td>\n",
       "      <td>5552.196067</td>\n",
       "      <td>MULTIPOLYGON (((1177234.750 990771.083, 117742...</td>\n",
       "    </tr>\n",
       "    <tr>\n",
       "      <th>327036</th>\n",
       "      <td>655145</td>\n",
       "      <td>13</td>\n",
       "      <td>655016</td>\n",
       "      <td>346897.585944</td>\n",
       "      <td>3241.058102</td>\n",
       "      <td>MULTIPOLYGON (((1948379.000 354505.333, 194798...</td>\n",
       "    </tr>\n",
       "    <tr>\n",
       "      <th>98093</th>\n",
       "      <td>206272</td>\n",
       "      <td>14</td>\n",
       "      <td>206143</td>\n",
       "      <td>17652.651748</td>\n",
       "      <td>531.996078</td>\n",
       "      <td>MULTIPOLYGON (((1189393.250 905353.417, 118953...</td>\n",
       "    </tr>\n",
       "    <tr>\n",
       "      <th>114794</th>\n",
       "      <td>238770</td>\n",
       "      <td>11</td>\n",
       "      <td>238641</td>\n",
       "      <td>87102.579494</td>\n",
       "      <td>1365.313209</td>\n",
       "      <td>MULTIPOLYGON (((1193192.500 874291.667, 119325...</td>\n",
       "    </tr>\n",
       "    <tr>\n",
       "      <th>293982</th>\n",
       "      <td>583065</td>\n",
       "      <td>11</td>\n",
       "      <td>582936</td>\n",
       "      <td>173877.522363</td>\n",
       "      <td>1650.328080</td>\n",
       "      <td>MULTIPOLYGON (((1007907.583 538614.167, 100790...</td>\n",
       "    </tr>\n",
       "  </tbody>\n",
       "</table>\n",
       "</div>"
      ],
      "text/plain": [
       "            id  LANDUSE_CD  OBJECTID     Shape_Area  Shape_Length  \\\n",
       "69846   145784          11    145655  726991.332948   5552.196067   \n",
       "327036  655145          13    655016  346897.585944   3241.058102   \n",
       "98093   206272          14    206143   17652.651748    531.996078   \n",
       "114794  238770          11    238641   87102.579494   1365.313209   \n",
       "293982  583065          11    582936  173877.522363   1650.328080   \n",
       "\n",
       "                                                 geometry  \n",
       "69846   MULTIPOLYGON (((1177234.750 990771.083, 117742...  \n",
       "327036  MULTIPOLYGON (((1948379.000 354505.333, 194798...  \n",
       "98093   MULTIPOLYGON (((1189393.250 905353.417, 118953...  \n",
       "114794  MULTIPOLYGON (((1193192.500 874291.667, 119325...  \n",
       "293982  MULTIPOLYGON (((1007907.583 538614.167, 100790...  "
      ]
     },
     "execution_count": 43,
     "metadata": {},
     "output_type": "execute_result"
    }
   ],
   "source": [
    "residential.sample(5)"
   ]
  },
  {
   "cell_type": "code",
   "execution_count": 45,
   "id": "revolutionary-omega",
   "metadata": {},
   "outputs": [],
   "source": [
    "manufacturing = land_use.loc[(land_use['LANDUSE_CD'] > 20) & (land_use['LANDUSE_CD'] < 40)]\n",
    "with open('manufacturing.json', 'w') as f:\n",
    "    f.write(manufacturing.to_json())\n",
    "manufacturing = gpd.read_file('manufacturing.json')"
   ]
  },
  {
   "cell_type": "code",
   "execution_count": 46,
   "id": "southeast-saint",
   "metadata": {},
   "outputs": [],
   "source": [
    "transportation = land_use.loc[(land_use['LANDUSE_CD'] > 40) & (land_use['LANDUSE_CD'] < 50)]\n",
    "with open('transportation.json', 'w') as f:\n",
    "    f.write(transportation.to_json())\n",
    "transportation = gpd.read_file('transportation.json')"
   ]
  },
  {
   "cell_type": "code",
   "execution_count": 47,
   "id": "generous-choice",
   "metadata": {},
   "outputs": [],
   "source": [
    "trade = land_use.loc[(land_use['LANDUSE_CD'] > 49) & (land_use['LANDUSE_CD'] < 60)]\n",
    "with open('trade.json', 'w') as f:\n",
    "    f.write(trade.to_json())\n",
    "trade = gpd.read_file('trade.json')"
   ]
  },
  {
   "cell_type": "code",
   "execution_count": 48,
   "id": "architectural-arlington",
   "metadata": {},
   "outputs": [],
   "source": [
    "service = land_use.loc[(land_use['LANDUSE_CD'] > 60) & (land_use['LANDUSE_CD'] < 70)]\n",
    "with open('service.json', 'w') as f:\n",
    "    f.write(service.to_json())\n",
    "service = gpd.read_file('service.json')"
   ]
  },
  {
   "cell_type": "code",
   "execution_count": 49,
   "id": "headed-kennedy",
   "metadata": {},
   "outputs": [],
   "source": [
    "recreational = land_use.loc[(land_use['LANDUSE_CD'] > 70) & (land_use['LANDUSE_CD'] < 80)]\n",
    "with open('recreational.json', 'w') as f:\n",
    "    f.write(recreational.to_json())\n",
    "recreational = gpd.read_file('recreational.json')"
   ]
  },
  {
   "cell_type": "code",
   "execution_count": 50,
   "id": "future-castle",
   "metadata": {},
   "outputs": [],
   "source": [
    "production = land_use.loc[(land_use['LANDUSE_CD'] > 80) & (land_use['LANDUSE_CD'] < 90)]\n",
    "with open('production.json', 'w') as f:\n",
    "    f.write(production.to_json())\n",
    "production = gpd.read_file('production.json')"
   ]
  },
  {
   "cell_type": "code",
   "execution_count": 51,
   "id": "concerned-hygiene",
   "metadata": {},
   "outputs": [],
   "source": [
    "undeveloped = land_use.loc[land_use['LANDUSE_CD'] > 90]\n",
    "with open('undeveloped.json', 'w') as f:\n",
    "    f.write(undeveloped.to_json())\n",
    "undeveloped = gpd.read_file('undeveloped.json')"
   ]
  },
  {
   "cell_type": "markdown",
   "id": "lucky-highland",
   "metadata": {},
   "source": [
    "##### In order to focus the project, the water pollution file is searched and sorted for the most common kinds of pollution. This automates the process of finding the most substantive data points to investigate."
   ]
  },
  {
   "cell_type": "code",
   "execution_count": 60,
   "id": "natural-carter",
   "metadata": {},
   "outputs": [
    {
     "data": {
      "text/plain": [
       "ParameterName\n",
       "Temperature                         3629\n",
       "Bacteria                            3112\n",
       "Dissolved Oxygen                    2185\n",
       "pH                                  1387\n",
       "Mercury                              700\n",
       "Ammonia-N                            461\n",
       "Copper                               439\n",
       "Polychlorinated Biphenyls (PCBs)     427\n",
       "Zinc                                 416\n",
       "Arsenic                              399\n",
       "Name: ListingNumber, dtype: int64"
      ]
     },
     "execution_count": 60,
     "metadata": {},
     "output_type": "execute_result"
    }
   ],
   "source": [
    "pollution = water.set_index([\"ParameterName\", \"OBJECTID\"]).count(level=\"ParameterName\")\n",
    "pollution = pollution['ListingNumber']\n",
    "pollution = pollution.sort_values(ascending=False)\n",
    "pollution.head(10)"
   ]
  }
 ],
 "metadata": {
  "kernelspec": {
   "display_name": "Python 3",
   "language": "python",
   "name": "python3"
  },
  "language_info": {
   "codemirror_mode": {
    "name": "ipython",
    "version": 3
   },
   "file_extension": ".py",
   "mimetype": "text/x-python",
   "name": "python",
   "nbconvert_exporter": "python",
   "pygments_lexer": "ipython3",
   "version": "3.8.5"
  }
 },
 "nbformat": 4,
 "nbformat_minor": 5
}
